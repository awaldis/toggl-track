{
 "cells": [
  {
   "cell_type": "code",
   "execution_count": null,
   "metadata": {},
   "outputs": [],
   "source": [
    "import time\n",
    "import datetime\n",
    "import pytz\n",
    "import requests\n",
    "import json\n",
    "from base64 import b64encode\n",
    "import os\n",
    "from dotenv import load_dotenv\n",
    "import sys\n",
    "\n",
    "from google_cal_client import GoogleCalClient"
   ]
  },
  {
   "cell_type": "code",
   "execution_count": 134,
   "metadata": {},
   "outputs": [],
   "source": [
    "class DataNotTrustedException(Exception):\n",
    "    \"\"\"Custom exception to indicate that the data returned should not be trusted.\"\"\"\n",
    "    pass\n",
    "\n",
    "class TogglClient:\n",
    "    \"\"\"For reading toggl time entries via the toggl API.\"\"\"\n",
    "\n",
    "    def __init__(self):\n",
    "        self.TOGGL_API_URL = 'https://api.track.toggl.com/api/v9/me'\n",
    "\n",
    "        # Load environment variables from the .env file\n",
    "        load_dotenv()\n",
    "\n",
    "        # Get the API key from the environment variables\n",
    "        api_token_string = os.getenv('API_KEY')\n",
    "\n",
    "        # Check if the API key was loaded correctly\n",
    "        if api_token_string is None:\n",
    "            raise ValueError(\"API_KEY environment variable not set\")\n",
    "\n",
    "        api_token_string = api_token_string + ':api_token'\n",
    "\n",
    "        self.headers = {\n",
    "            'content-type': 'application/json',\n",
    "            'Authorization' : 'Basic %s' %  b64encode(api_token_string.encode('utf-8')).decode(\"ascii\")\n",
    "          }\n",
    "\n",
    "    def get_time_entries(self, verbose=False):\n",
    "        unix_time_minus_two_hours = int(time.time()) - 14400\n",
    "        \n",
    "        response = requests.get(self.TOGGL_API_URL + f'/time_entries?since={unix_time_minus_two_hours}', headers=self.headers)\n",
    "\n",
    "        # Ensure the request was successful\n",
    "        if response.status_code == 200:\n",
    "            # Parse the JSON response\n",
    "            data = response.json()\n",
    "    \n",
    "            # TODO: Add a debug mode that prints the details?\n",
    "            # Or just delete this?\n",
    "            # Pretty-print the JSON response\n",
    "            #pretty_json = json.dumps(data, indent=4)\n",
    "            #print(pretty_json)\n",
    "        else:\n",
    "            print(f\"Request failed with status code {response.status_code}\")\n",
    "\n",
    "        # Look for non-null stop time to determine whether the time tracker entry actually \n",
    "        # has a stop time (if not, it's still in progress).\n",
    "\n",
    "        if data and data[0].get('stop') is not None:\n",
    "            entry_index = 0\n",
    "        elif len(data) >= 2 and data[1].get('stop') is not None:\n",
    "            entry_index = 1\n",
    "        else:\n",
    "            entry_index = -1\n",
    "#            raise DataNotTrustedException(\"No valid entry found!\")\n",
    "\n",
    "        if entry_index in (0, 1):\n",
    "            if verbose:\n",
    "                print(\"Found toggl time entry:\") \n",
    "                print(f\"Description: {data[entry_index]['description']}\")       \n",
    "                print(f\"Start: {data[entry_index]['start']}\")       \n",
    "                print(f\"Stop: {data[entry_index]['stop']}\")       \n",
    "\n",
    "                return {\"start\": data[entry_index]['start'],\n",
    "                        \"stop\" : data[entry_index]['stop'],\n",
    "                        \"description\": data[entry_index]['description']}\n",
    "        else:\n",
    "            if verbose:\n",
    "                print(\"No valid toggl time entry found.\")\n",
    "                return []\n",
    "\n"
   ]
  },
  {
   "cell_type": "code",
   "execution_count": 135,
   "metadata": {},
   "outputs": [
    {
     "data": {
      "text/plain": [
       "<__main__.TogglClient at 0x23557623f10>"
      ]
     },
     "execution_count": 135,
     "metadata": {},
     "output_type": "execute_result"
    }
   ],
   "source": [
    "x = TogglClient()\n",
    "x"
   ]
  },
  {
   "cell_type": "code",
   "execution_count": null,
   "metadata": {},
   "outputs": [],
   "source": [
    "gcal = GoogleCalClient()\n",
    "gcal"
   ]
  },
  {
   "cell_type": "code",
   "execution_count": 136,
   "metadata": {},
   "outputs": [
    {
     "name": "stdout",
     "output_type": "stream",
     "text": [
      "No valid toggl time entry found.\n"
     ]
    }
   ],
   "source": [
    "time_entry = x.get_time_entries(verbose=True)"
   ]
  },
  {
   "cell_type": "code",
   "execution_count": 44,
   "metadata": {},
   "outputs": [
    {
     "name": "stdout",
     "output_type": "stream",
     "text": [
      "Not Empty\n"
     ]
    }
   ],
   "source": [
    "if time_entry:\n",
    "    print(\"Not Empty\")\n",
    "else:\n",
    "    print(\"Empty\")\n"
   ]
  },
  {
   "cell_type": "code",
   "execution_count": 130,
   "metadata": {},
   "outputs": [
    {
     "name": "stdout",
     "output_type": "stream",
     "text": [
      "Event created: https://www.google.com/calendar/event?eid=NnAxZWFwbmJidWtqM2ZjNTVnYmRzbWNhZGMgYW5kcmV3QGFuZHJld3dhbGRpcy5jb20\n"
     ]
    }
   ],
   "source": [
    "gcal.create_event(time_entry)"
   ]
  },
  {
   "cell_type": "code",
   "execution_count": 98,
   "metadata": {},
   "outputs": [
    {
     "data": {
      "text/plain": [
       "36"
      ]
     },
     "execution_count": 98,
     "metadata": {},
     "output_type": "execute_result"
    }
   ],
   "source": [
    "(91**2)%97"
   ]
  },
  {
   "cell_type": "code",
   "execution_count": 60,
   "metadata": {},
   "outputs": [],
   "source": [
    "request_json = {'event_id': 11789171601940556, 'created_at': '2024-07-18T22:34:38.067Z', 'creator_id': 10638475, 'metadata': {'action': 'updated', 'event_user_id': '10638475', 'model': 'time_entry', 'model_owner_id': '10638475', 'project_id': '203719167', 'project_is_private': 'true', 'time_entry_id': '3532732305', 'workspace_id': '8239592'}, 'payload': {'at': '2024-07-18T22:34:37+00:00', 'billable': False, 'description': 'Google Cloud Function Development', 'duration': 218, 'duronly': True, 'id': 3532732305, 'permissions': ['update', 'remove'], 'pid': 203719167, 'project_id': 203719167, 'server_deleted_at': None, 'start': '2024-07-18T22:30:57Z', 'stop': '2024-07-18T22:34:35Z', 'tag_ids': [], 'tags': [], 'task_id': None, 'uid': 10638475, 'user_id': 10638475, 'wid': 8239592, 'workspace_id': 8239592}, 'subscription_id': 34375, 'timestamp': '2024-07-18T22:34:38.620514593Z', 'url_callback': 'https://us-central1-alert-aria-426417-f4.cloudfunctions.net/function-2'}"
   ]
  },
  {
   "cell_type": "code",
   "execution_count": 61,
   "metadata": {},
   "outputs": [
    {
     "data": {
      "text/plain": [
       "{'event_id': 11789171601940556,\n",
       " 'created_at': '2024-07-18T22:34:38.067Z',\n",
       " 'creator_id': 10638475,\n",
       " 'metadata': {'action': 'updated',\n",
       "  'event_user_id': '10638475',\n",
       "  'model': 'time_entry',\n",
       "  'model_owner_id': '10638475',\n",
       "  'project_id': '203719167',\n",
       "  'project_is_private': 'true',\n",
       "  'time_entry_id': '3532732305',\n",
       "  'workspace_id': '8239592'},\n",
       " 'payload': {'at': '2024-07-18T22:34:37+00:00',\n",
       "  'billable': False,\n",
       "  'description': 'Google Cloud Function Development',\n",
       "  'duration': 218,\n",
       "  'duronly': True,\n",
       "  'id': 3532732305,\n",
       "  'permissions': ['update', 'remove'],\n",
       "  'pid': 203719167,\n",
       "  'project_id': 203719167,\n",
       "  'server_deleted_at': None,\n",
       "  'start': '2024-07-18T22:30:57Z',\n",
       "  'stop': '2024-07-18T22:34:35Z',\n",
       "  'tag_ids': [],\n",
       "  'tags': [],\n",
       "  'task_id': None,\n",
       "  'uid': 10638475,\n",
       "  'user_id': 10638475,\n",
       "  'wid': 8239592,\n",
       "  'workspace_id': 8239592},\n",
       " 'subscription_id': 34375,\n",
       " 'timestamp': '2024-07-18T22:34:38.620514593Z',\n",
       " 'url_callback': 'https://us-central1-alert-aria-426417-f4.cloudfunctions.net/function-2'}"
      ]
     },
     "execution_count": 61,
     "metadata": {},
     "output_type": "execute_result"
    }
   ],
   "source": [
    "request_json"
   ]
  },
  {
   "cell_type": "code",
   "execution_count": 82,
   "metadata": {},
   "outputs": [
    {
     "data": {
      "text/plain": [
       "'Google Cloud Function Development'"
      ]
     },
     "execution_count": 82,
     "metadata": {},
     "output_type": "execute_result"
    }
   ],
   "source": [
    "request_json['payload']['description']"
   ]
  },
  {
   "cell_type": "code",
   "execution_count": 86,
   "metadata": {},
   "outputs": [
    {
     "name": "stdout",
     "output_type": "stream",
     "text": [
      "Description: Google Cloud Function Development - Start time: 2024-07-18T22:30:57Z\n"
     ]
    }
   ],
   "source": [
    "if 'payload' in request_json:\n",
    "    if 'description' in request_json['payload']:\n",
    "        description = request_json['payload']['description']\n",
    "    else:\n",
    "        description = '!! No description found !!'\n",
    "        \n",
    "    if 'start' in request_json['payload']:\n",
    "        start = request_json['payload']['start']\n",
    "    else:\n",
    "        start = '!! No start time found !!'\n",
    "print(f'Description: {description} - Start time: {start}')\n"
   ]
  }
 ],
 "metadata": {
  "kernelspec": {
   "display_name": "Python 3",
   "language": "python",
   "name": "python3"
  },
  "language_info": {
   "codemirror_mode": {
    "name": "ipython",
    "version": 3
   },
   "file_extension": ".py",
   "mimetype": "text/x-python",
   "name": "python",
   "nbconvert_exporter": "python",
   "pygments_lexer": "ipython3",
   "version": "3.10.11"
  }
 },
 "nbformat": 4,
 "nbformat_minor": 2
}
