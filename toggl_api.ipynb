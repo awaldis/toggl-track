{
 "cells": [
  {
   "cell_type": "code",
   "execution_count": 23,
   "metadata": {},
   "outputs": [],
   "source": [
    "import time\n",
    "import datetime\n",
    "import pytz\n",
    "import requests\n",
    "import json\n",
    "from base64 import b64encode\n",
    "import os\n",
    "from dotenv import load_dotenv"
   ]
  },
  {
   "cell_type": "code",
   "execution_count": 8,
   "metadata": {},
   "outputs": [],
   "source": [
    "# Load environment variables from the .env file\n",
    "load_dotenv()\n",
    "\n",
    "# Get the API key from the environment variables\n",
    "api_token_string = os.getenv('API_KEY')\n",
    "\n",
    "# Check if the API key was loaded correctly\n",
    "if api_token_string is None:\n",
    "    raise ValueError(\"API_KEY environment variable not set\")\n",
    "\n",
    "api_token_string = api_token_string + ':api_token'    "
   ]
  },
  {
   "cell_type": "code",
   "execution_count": 7,
   "metadata": {},
   "outputs": [],
   "source": [
    "TOGGL_API_URL = 'https://api.track.toggl.com/api/v9/me'\n",
    "\n",
    "headers = {\n",
    "            'content-type': 'application/json',\n",
    "            'Authorization' : 'Basic %s' %  b64encode(api_token_string.encode('utf-8')).decode(\"ascii\")\n",
    "          }"
   ]
  },
  {
   "cell_type": "code",
   "execution_count": null,
   "metadata": {},
   "outputs": [],
   "source": [
    "unix_time_minus_one_hour = int(time.time()) - 3600\n",
    "print(unix_time_minus_one_hour)"
   ]
  },
  {
   "cell_type": "code",
   "execution_count": null,
   "metadata": {},
   "outputs": [],
   "source": [
    "response = requests.get(TOGGL_API_URL + f'/time_entries?since={unix_time_minus_one_hour}', headers=headers)\n",
    "\n",
    "# Ensure the request was successful\n",
    "if response.status_code == 200:\n",
    "    # Parse the JSON response\n",
    "    data = response.json()\n",
    "    \n",
    "    # Pretty-print the JSON response\n",
    "    pretty_json = json.dumps(data, indent=4)\n",
    "    print(pretty_json)\n",
    "else:\n",
    "    print(f\"Request failed with status code {response.status_code}\")"
   ]
  },
  {
   "cell_type": "code",
   "execution_count": null,
   "metadata": {},
   "outputs": [],
   "source": [
    "# Extract the 'start' field\n",
    "start_time_str = data[0]['start']\n",
    "\n",
    "# Convert to a datetime object\n",
    "start_time_utc = datetime.datetime.fromisoformat(start_time_str)\n",
    "\n",
    "# Convert to local time\n",
    "local_timezone = pytz.timezone('America/New_York')  # Replace with your local timezone\n",
    "start_time_local = start_time_utc.astimezone(local_timezone)\n",
    "\n",
    "print(f\"Start time in local time: {start_time_local}\")"
   ]
  }
 ],
 "metadata": {
  "kernelspec": {
   "display_name": "Python 3",
   "language": "python",
   "name": "python3"
  },
  "language_info": {
   "codemirror_mode": {
    "name": "ipython",
    "version": 3
   },
   "file_extension": ".py",
   "mimetype": "text/x-python",
   "name": "python",
   "nbconvert_exporter": "python",
   "pygments_lexer": "ipython3",
   "version": "3.10.11"
  }
 },
 "nbformat": 4,
 "nbformat_minor": 2
}
