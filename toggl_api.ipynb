{
 "cells": [
  {
   "cell_type": "code",
   "execution_count": 41,
   "metadata": {},
   "outputs": [],
   "source": [
    "import time\n",
    "import datetime\n",
    "import pytz\n",
    "import requests\n",
    "import json\n",
    "from base64 import b64encode\n",
    "import os\n",
    "from dotenv import load_dotenv\n",
    "import sys\n",
    "\n",
    "from google.auth.transport.requests import Request\n",
    "from google.oauth2.credentials import Credentials\n",
    "from google_auth_oauthlib.flow import InstalledAppFlow\n",
    "from googleapiclient.discovery import build\n",
    "from googleapiclient.errors import HttpError"
   ]
  },
  {
   "cell_type": "code",
   "execution_count": 31,
   "metadata": {},
   "outputs": [],
   "source": [
    "# Load environment variables from the .env file\n",
    "load_dotenv()\n",
    "\n",
    "# Get the API key from the environment variables\n",
    "api_token_string = os.getenv('API_KEY')\n",
    "\n",
    "# Check if the API key was loaded correctly\n",
    "if api_token_string is None:\n",
    "    raise ValueError(\"API_KEY environment variable not set\")\n",
    "\n",
    "api_token_string = api_token_string + ':api_token'    "
   ]
  },
  {
   "cell_type": "code",
   "execution_count": 32,
   "metadata": {},
   "outputs": [],
   "source": [
    "TOGGL_API_URL = 'https://api.track.toggl.com/api/v9/me'\n",
    "\n",
    "headers = {\n",
    "            'content-type': 'application/json',\n",
    "            'Authorization' : 'Basic %s' %  b64encode(api_token_string.encode('utf-8')).decode(\"ascii\")\n",
    "          }"
   ]
  },
  {
   "cell_type": "code",
   "execution_count": null,
   "metadata": {},
   "outputs": [],
   "source": [
    "# If modifying these scopes, delete the file token.json.\n",
    "SCOPES = [\"https://www.googleapis.com/auth/calendar\"]\n",
    "\n",
    "def get_google_credentials():\n",
    "  \"\"\"Shows basic usage of the Google Calendar API.\n",
    "  Prints the start and name of the next 10 events on the user's calendar.\n",
    "  \"\"\"\n",
    "  creds = None\n",
    "  # The file token.json stores the user's access and refresh tokens, and is\n",
    "  # created automatically when the authorization flow completes for the first\n",
    "  # time.\n",
    "  if os.path.exists(\"token.json\"):\n",
    "    creds = Credentials.from_authorized_user_file(\"token.json\", SCOPES)\n",
    "  # If there are no (valid) credentials available, let the user log in.\n",
    "  if not creds or not creds.valid:\n",
    "    if creds and creds.expired and creds.refresh_token:\n",
    "      creds.refresh(Request())\n",
    "    else:\n",
    "      flow = InstalledAppFlow.from_client_secrets_file(\n",
    "          \"credentials.json\", SCOPES\n",
    "      )\n",
    "      creds = flow.run_local_server(port=0)\n",
    "    # Save the credentials for the next run\n",
    "    with open(\"token.json\", \"w\") as token:\n",
    "      token.write(creds.to_json())\n",
    "  return(creds)\n",
    "\n",
    "creds = get_google_credentials()\n",
    "creds"
   ]
  },
  {
   "cell_type": "code",
   "execution_count": null,
   "metadata": {},
   "outputs": [],
   "source": [
    "unix_time_minus_one_hour = int(time.time()) - 3600\n",
    "print(unix_time_minus_one_hour)"
   ]
  },
  {
   "cell_type": "code",
   "execution_count": null,
   "metadata": {},
   "outputs": [],
   "source": [
    "response = requests.get(TOGGL_API_URL + f'/time_entries?since={unix_time_minus_one_hour}', headers=headers)\n",
    "\n",
    "# Ensure the request was successful\n",
    "if response.status_code == 200:\n",
    "    # Parse the JSON response\n",
    "    data = response.json()\n",
    "    \n",
    "    # Pretty-print the JSON response\n",
    "    pretty_json = json.dumps(data, indent=4)\n",
    "    print(pretty_json)\n",
    "else:\n",
    "    print(f\"Request failed with status code {response.status_code}\")"
   ]
  },
  {
   "cell_type": "code",
   "execution_count": null,
   "metadata": {},
   "outputs": [],
   "source": [
    "# Extract the 'start' field\n",
    "start_time_str = data[0]['start']\n",
    "\n",
    "# Convert to a datetime object\n",
    "start_time_utc = datetime.datetime.fromisoformat(start_time_str)\n",
    "\n",
    "# Convert to local time\n",
    "local_timezone = pytz.timezone('America/New_York')  # Replace with your local timezone\n",
    "start_time_local = start_time_utc.astimezone(local_timezone)\n",
    "\n",
    "print(f\"Start time in local time: {start_time_local}\")"
   ]
  },
  {
   "cell_type": "code",
   "execution_count": null,
   "metadata": {},
   "outputs": [],
   "source": [
    "# Look for non-null stop time to determine whether the time tracker entry actually \n",
    "# has a stop time (if not, it's still in progress).\n",
    "if data[0]['stop'] is not None:\n",
    "    entry_index = 0\n",
    "elif len(data) >=2 and data[1]['stop'] is not None:\n",
    "    entry_index = 1\n",
    "else:\n",
    "    entry_index = -1\n",
    "    print(\"No valid entry found!\")\n",
    "print(entry_index)"
   ]
  },
  {
   "cell_type": "code",
   "execution_count": 60,
   "metadata": {},
   "outputs": [],
   "source": [
    "if entry_index < 0:\n",
    "    print(\"Aborting execution...\")\n",
    "    sys.exit(\"Execution aborted due to invalid entry_index\")"
   ]
  },
  {
   "cell_type": "code",
   "execution_count": null,
   "metadata": {},
   "outputs": [],
   "source": [
    "start_time_str = data[entry_index]['start']\n",
    "stop_time_str = data[entry_index]['stop']\n",
    "description_str = data[entry_index]['description']\n",
    "\n",
    "print(description_str)\n",
    "print(start_time_str)\n",
    "print(stop_time_str)"
   ]
  },
  {
   "cell_type": "code",
   "execution_count": null,
   "metadata": {},
   "outputs": [],
   "source": [
    "event = {\n",
    "  'summary': description_str,\n",
    "  'colorId': '4',\n",
    "  'description': 'This event generated automatically from the Waldis toggl gateway script.',\n",
    "  'start': {\n",
    "    'dateTime': start_time_str,\n",
    "  },\n",
    "  'end': {\n",
    "    'dateTime': stop_time_str,\n",
    "  },\n",
    "}\n",
    "event"
   ]
  },
  {
   "cell_type": "code",
   "execution_count": null,
   "metadata": {},
   "outputs": [],
   "source": [
    "try:\n",
    "    service = build(\"calendar\", \"v3\", credentials=creds)\n",
    "\n",
    "    event = service.events().insert(calendarId='primary', body=event).execute()\n",
    "    print ('Event created: %s' % (event.get('htmlLink')))\n",
    "\n",
    "except HttpError as error:\n",
    "    print(f\"An error occurred: {error}\")\n"
   ]
  }
 ],
 "metadata": {
  "kernelspec": {
   "display_name": "Python 3",
   "language": "python",
   "name": "python3"
  },
  "language_info": {
   "codemirror_mode": {
    "name": "ipython",
    "version": 3
   },
   "file_extension": ".py",
   "mimetype": "text/x-python",
   "name": "python",
   "nbconvert_exporter": "python",
   "pygments_lexer": "ipython3",
   "version": "3.10.11"
  }
 },
 "nbformat": 4,
 "nbformat_minor": 2
}
