{
 "cells": [
  {
   "cell_type": "code",
   "execution_count": null,
   "metadata": {},
   "outputs": [],
   "source": [
    "import time\n",
    "import datetime\n",
    "import pytz\n",
    "import requests\n",
    "import json\n",
    "from base64 import b64encode\n",
    "import os\n",
    "from dotenv import load_dotenv\n",
    "import sys\n",
    "\n",
    "from google_cal_client import GoogleCalClient"
   ]
  },
  {
   "cell_type": "code",
   "execution_count": null,
   "metadata": {},
   "outputs": [],
   "source": [
    "class DataNotTrustedException(Exception):\n",
    "    \"\"\"Custom exception to indicate that the data returned should not be trusted.\"\"\"\n",
    "    pass\n",
    "\n",
    "class TogglClient:\n",
    "    \"\"\"For reading toggl time entries via the toggl API.\"\"\"\n",
    "\n",
    "    def __init__(self):\n",
    "        self.TOGGL_API_URL = 'https://api.track.toggl.com/api/v9/me'\n",
    "\n",
    "        # Load environment variables from the .env file\n",
    "        load_dotenv()\n",
    "\n",
    "        # Get the API key from the environment variables\n",
    "        api_token_string = os.getenv('API_KEY')\n",
    "\n",
    "        # Check if the API key was loaded correctly\n",
    "        if api_token_string is None:\n",
    "            raise ValueError(\"API_KEY environment variable not set\")\n",
    "\n",
    "        api_token_string = api_token_string + ':api_token'\n",
    "\n",
    "        self.headers = {\n",
    "            'content-type': 'application/json',\n",
    "            'Authorization' : 'Basic %s' %  b64encode(api_token_string.encode('utf-8')).decode(\"ascii\")\n",
    "          }\n",
    "\n",
    "    def get_time_entries(self):\n",
    "        unix_time_minus_two_hours = int(time.time()) - 7200\n",
    "        \n",
    "        response = requests.get(self.TOGGL_API_URL + f'/time_entries?since={unix_time_minus_two_hours}', headers=self.headers)\n",
    "\n",
    "        # Ensure the request was successful\n",
    "        if response.status_code == 200:\n",
    "            # Parse the JSON response\n",
    "            data = response.json()\n",
    "    \n",
    "            # TODO: Add a debug mode that prints the details?\n",
    "            # Or just delete this?\n",
    "            # Pretty-print the JSON response\n",
    "            #pretty_json = json.dumps(data, indent=4)\n",
    "            #print(pretty_json)\n",
    "        else:\n",
    "            print(f\"Request failed with status code {response.status_code}\")\n",
    "\n",
    "        # Look for non-null stop time to determine whether the time tracker entry actually \n",
    "        # has a stop time (if not, it's still in progress).\n",
    "        if data[0]['stop'] is not None:\n",
    "            entry_index = 0\n",
    "        elif len(data) >=2 and data[1]['stop'] is not None:\n",
    "            entry_index = 1\n",
    "        else:\n",
    "            entry_index = -1\n",
    "            raise DataNotTrustedException(\"No valid entry found!\")\n",
    "            \n",
    "        return {\"start\": data[entry_index]['start'],\n",
    "                \"stop\" : data[entry_index]['stop'],\n",
    "                \"description\": data[entry_index]['description']}"
   ]
  },
  {
   "cell_type": "code",
   "execution_count": null,
   "metadata": {},
   "outputs": [],
   "source": [
    "x = TogglClient()\n",
    "x"
   ]
  },
  {
   "cell_type": "code",
   "execution_count": null,
   "metadata": {},
   "outputs": [],
   "source": [
    "gcal = GoogleCalClient()\n",
    "gcal"
   ]
  },
  {
   "cell_type": "code",
   "execution_count": null,
   "metadata": {},
   "outputs": [],
   "source": [
    "time_entry = None\n",
    "time_entry = x.get_time_entries()\n",
    "time_entry"
   ]
  },
  {
   "cell_type": "code",
   "execution_count": null,
   "metadata": {},
   "outputs": [],
   "source": [
    "gcal.create_event(time_entry)"
   ]
  }
 ],
 "metadata": {
  "kernelspec": {
   "display_name": "Python 3",
   "language": "python",
   "name": "python3"
  },
  "language_info": {
   "codemirror_mode": {
    "name": "ipython",
    "version": 3
   },
   "file_extension": ".py",
   "mimetype": "text/x-python",
   "name": "python",
   "nbconvert_exporter": "python",
   "pygments_lexer": "ipython3",
   "version": "3.10.11"
  }
 },
 "nbformat": 4,
 "nbformat_minor": 2
}
